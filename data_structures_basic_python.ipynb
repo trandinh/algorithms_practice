{
  "nbformat": 4,
  "nbformat_minor": 0,
  "metadata": {
    "colab": {
      "name": "data_structures_basic_python.ipynb",
      "provenance": [],
      "collapsed_sections": [],
      "authorship_tag": "ABX9TyOcx4ITRUYNZXAPW5Ko8c78",
      "include_colab_link": true
    },
    "kernelspec": {
      "name": "python3",
      "display_name": "Python 3"
    },
    "language_info": {
      "name": "python"
    }
  },
  "cells": [
    {
      "cell_type": "markdown",
      "metadata": {
        "id": "view-in-github",
        "colab_type": "text"
      },
      "source": [
        "<a href=\"https://colab.research.google.com/github/trandinh/algorithms_practice/blob/main/data_structures_basic_python.ipynb\" target=\"_parent\"><img src=\"https://colab.research.google.com/assets/colab-badge.svg\" alt=\"Open In Colab\"/></a>"
      ]
    },
    {
      "cell_type": "markdown",
      "source": [
        "List: Array-like structures that let you save a set of mutable objects of the same type to a variable."
      ],
      "metadata": {
        "id": "NyLzF1DS10Jz"
      }
    },
    {
      "cell_type": "code",
      "source": [
        "#1.Remove even integers from list\n",
        "def removeEvenNumber(arr):\n",
        "  for nb in arr:\n",
        "    if nb%2 != 0:\n",
        "      arr.remove(nb)\n",
        "  return arr\n",
        "\n",
        "arr = [11, 22, 31, 44, 51, 65, 71, 82, 91]\n",
        "arr = removeEvenNumber(arr)\n",
        "print(arr)"
      ],
      "metadata": {
        "colab": {
          "base_uri": "https://localhost:8080/"
        },
        "id": "HMA-ilQ511cS",
        "outputId": "32991f99-f76d-4ce6-c5bc-fa1202b0a93a"
      },
      "execution_count": 1,
      "outputs": [
        {
          "output_type": "stream",
          "name": "stdout",
          "text": [
            "[22, 44, 65, 82]\n"
          ]
        }
      ]
    },
    {
      "cell_type": "code",
      "source": [
        "#2.Merge two sorted lists\n",
        "def mergeTwoSortedLists(arr1, arr2):\n",
        "  size1 = len(arr1)\n",
        "  size2 = len(arr2)\n",
        "\n",
        "  arr3 = [None]*(size1 + size2) \n",
        "\n",
        "  i = 0; j = 0; k = 0\n",
        "  #merge the sort array util the end of 1 in 2 array\n",
        "  while i<size1 and j<size1:\n",
        "    if arr1[i] <= arr2[i]:\n",
        "      arr3[k] = arr1[i]\n",
        "      k += 1\n",
        "      i += 1\n",
        "    else:\n",
        "      arr3[k] = arr2[j]\n",
        "      k +=1\n",
        "      j+=1\n",
        "\n",
        "  #add the remain part of array to the result\n",
        "  while i<size1:\n",
        "    arr3[k] = arr1[i]\n",
        "    k += 1\n",
        "    i += 1\n",
        "  \n",
        "  while j < size2:\n",
        "    arr3[k] = arr2[j]\n",
        "    k += 1\n",
        "    j += 1\n",
        "    \n",
        "  return arr3\n",
        "\n",
        "arr1 = [1, 4]\n",
        "arr2 = [1, 3, 7]\n",
        "arr3 = mergeTwoSortedLists(arr1, arr2)\n",
        "print(arr3)"
      ],
      "metadata": {
        "colab": {
          "base_uri": "https://localhost:8080/"
        },
        "id": "D057GLRq2en6",
        "outputId": "d2df2cc3-9a0a-4ff3-9303-e407a9cc1f2e"
      },
      "execution_count": 3,
      "outputs": [
        {
          "output_type": "stream",
          "name": "stdout",
          "text": [
            "[1, 1, 3, 4, 7]\n"
          ]
        }
      ]
    },
    {
      "cell_type": "markdown",
      "source": [
        ""
      ],
      "metadata": {
        "id": "f3ZgakYT2dcL"
      }
    }
  ]
}